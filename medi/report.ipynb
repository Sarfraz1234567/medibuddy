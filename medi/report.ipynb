{
 "cells": [
  {
   "cell_type": "markdown",
   "metadata": {},
   "source": [
    "##*Capstone Project Analysis: MediBuddy Insurance Data*\n",
    "\n",
    "### 1. Does the gender of the person matter for the company as a constraint for extending policies?\n",
    "*Analysis:* Our EDA shows that males have slightly higher insurance claims than females, but the difference is not significant enough to justify gender-based policy constraints. Therefore, gender alone should not be a deciding factor in extending policies.\n",
    "\n",
    "---\n",
    "\n",
    "### 2. What is the average amount of money the company spent over each policy cover?\n",
    "*Analysis:* The average insurance claim amount is *₹13,270*. This represents the general cost incurred by the company per policyholder.\n",
    "\n",
    "---\n",
    "\n",
    "### 3. Should the company offer separate policies based on geographic location?\n",
    "*Analysis:* The *Southeast region* has the highest average claim amount, but the variation across other regions is not significant. While separate policies may not be essential, premium adjustments based on regional trends could be beneficial.\n",
    "\n",
    "---\n",
    "\n",
    "### 4. Does the number of dependents affect the amount claimed?\n",
    "*Analysis:* Our analysis indicates that policyholders with *2-3 children tend to have higher claim amounts, while those with **5 children have lower claims*. This suggests that the number of dependents does play a role in insurance costs, and policies should be designed accordingly.\n",
    "\n",
    "---\n",
    "\n",
    "### 5. Does BMI influence the insurance claims?\n",
    "*Analysis:* BMI has a weak positive correlation (*0.198*) with insurance claims, meaning BMI alone is not a strong predictor. However, when combined with smoking status, high BMI significantly increases claims. This suggests that BMI should be considered along with other health factors for better risk assessment.\n",
    "\n",
    "---\n",
    "\n",
    "### 6. Is it necessary to consider smoking status when offering policies?\n",
    "*Analysis:* *Yes, absolutely.* Smokers have *4x higher claims* (₹32,050) compared to non-smokers (₹8,434). This makes smoking a *critical factor* in policy pricing, and higher premiums should be charged to smokers.\n",
    "\n",
    "---\n",
    "\n",
    "### 7. Does age impact the insurance claim amount?\n",
    "*Analysis:* There is a *moderate positive correlation (0.299)* between age and claim amounts. Older individuals tend to have higher claims, suggesting that *age-based premium adjustments* may be necessary.\n",
    "\n",
    "---\n",
    "\n",
    "### 8. Can the company extend discounts based on health (BMI & Smoking)?\n",
    "*Analysis:* Yes. Our findings indicate that *non-smokers with BMI < 30 have the lowest claims (~₹7,967). The company can offer discounts to **healthy non-smokers* to encourage wellness and preventive healthcare.\n",
    "\n",
    "\n",
    "\n",
    "\n"
   ]
  },
  {
   "cell_type": "code",
   "execution_count": null,
   "metadata": {},
   "outputs": [],
   "source": []
  },
  {
   "cell_type": "markdown",
   "metadata": {},
   "source": []
  }
 ],
 "metadata": {
  "language_info": {
   "name": "python"
  }
 },
 "nbformat": 4,
 "nbformat_minor": 2
}
